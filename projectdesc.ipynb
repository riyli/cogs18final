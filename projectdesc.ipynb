{
 "cells": [
  {
   "cell_type": "markdown",
   "metadata": {},
   "source": [
    "In my project, I aimed to create a data visualization of COVID-19 data. For this, I found an online .csv file of COVID-19 data by country, which is updated daily. I made use of the pandas module to manipulate this data by creating and sorting dataframes, then graphing the data from the dataframe using matplotlib. The end product of my code was a graph of a country's COVID-19 progression, with x-axis of data and y-axis of infected individuals, and line graphs showing total infected, current infected, recovered, and deceased individuals. \n",
    "\n",
    "To run the project, run the file named **covidgraph.py**. You will need to have the pandas and matplotlib modules installed. You will be prompted to enter the name of a country, for example *Algeria*. A graph will be generated in a separate window. For best results, fullscreen / maximize the graph window"
   ]
  }
 ],
 "metadata": {
  "kernelspec": {
   "display_name": "Python 3",
   "language": "python",
   "name": "python3"
  },
  "language_info": {
   "codemirror_mode": {
    "name": "ipython",
    "version": 3
   },
   "file_extension": ".py",
   "mimetype": "text/x-python",
   "name": "python",
   "nbconvert_exporter": "python",
   "pygments_lexer": "ipython3",
   "version": "3.7.3"
  }
 },
 "nbformat": 4,
 "nbformat_minor": 2
}
